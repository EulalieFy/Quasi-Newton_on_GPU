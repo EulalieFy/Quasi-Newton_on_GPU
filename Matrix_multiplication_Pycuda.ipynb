{
 "cells": [
  {
   "cell_type": "markdown",
   "metadata": {},
   "source": [
    "# Matrix multiplication with Pycuda"
   ]
  },
  {
   "cell_type": "markdown",
   "metadata": {},
   "source": [
    "By Hugo Perrin & Eulalie Formery"
   ]
  },
  {
   "cell_type": "code",
   "execution_count": 0,
   "metadata": {
    "colab": {
     "base_uri": "https://localhost:8080/",
     "height": 1125
    },
    "colab_type": "code",
    "id": "wcTqvyomAD5l",
    "outputId": "856ca864-64d6-4d7d-f29d-26610dd9241f"
   },
   "outputs": [
    {
     "name": "stdout",
     "output_type": "stream",
     "text": [
      "Collecting pycuda\n",
      "\u001b[?25l  Downloading https://files.pythonhosted.org/packages/58/33/cced4891eddd1a3ac561ff99081019fddc7838a07cace272c941e3c2f915/pycuda-2018.1.1.tar.gz (1.6MB)\n",
      "\u001b[K    100% |████████████████████████████████| 1.6MB 15.2MB/s \n",
      "\u001b[?25hCollecting pytools>=2011.2 (from pycuda)\n",
      "\u001b[?25l  Downloading https://files.pythonhosted.org/packages/ac/a3/f54f7190315ad41b7334d8733350e7fcefded8f25e0b45e2329b80279921/pytools-2019.1.tar.gz (57kB)\n",
      "\u001b[K    100% |████████████████████████████████| 61kB 22.9MB/s \n",
      "\u001b[?25hRequirement already satisfied: pytest>=2 in /usr/local/lib/python3.6/dist-packages (from pycuda) (3.10.1)\n",
      "Requirement already satisfied: decorator>=3.2.0 in /usr/local/lib/python3.6/dist-packages (from pycuda) (4.3.2)\n",
      "Collecting appdirs>=1.4.0 (from pycuda)\n",
      "  Downloading https://files.pythonhosted.org/packages/56/eb/810e700ed1349edde4cbdc1b2a21e28cdf115f9faf263f6bbf8447c1abf3/appdirs-1.4.3-py2.py3-none-any.whl\n",
      "Collecting mako (from pycuda)\n",
      "\u001b[?25l  Downloading https://files.pythonhosted.org/packages/eb/f3/67579bb486517c0d49547f9697e36582cd19dafb5df9e687ed8e22de57fa/Mako-1.0.7.tar.gz (564kB)\n",
      "\u001b[K    100% |████████████████████████████████| 573kB 26.6MB/s \n",
      "\u001b[?25hRequirement already satisfied: six>=1.8.0 in /usr/local/lib/python3.6/dist-packages (from pytools>=2011.2->pycuda) (1.11.0)\n",
      "Requirement already satisfied: numpy>=1.6.0 in /usr/local/lib/python3.6/dist-packages (from pytools>=2011.2->pycuda) (1.14.6)\n",
      "Requirement already satisfied: pluggy>=0.7 in /usr/local/lib/python3.6/dist-packages (from pytest>=2->pycuda) (0.8.1)\n",
      "Requirement already satisfied: atomicwrites>=1.0 in /usr/local/lib/python3.6/dist-packages (from pytest>=2->pycuda) (1.2.1)\n",
      "Requirement already satisfied: more-itertools>=4.0.0 in /usr/local/lib/python3.6/dist-packages (from pytest>=2->pycuda) (5.0.0)\n",
      "Requirement already satisfied: attrs>=17.4.0 in /usr/local/lib/python3.6/dist-packages (from pytest>=2->pycuda) (18.2.0)\n",
      "Requirement already satisfied: setuptools in /usr/local/lib/python3.6/dist-packages (from pytest>=2->pycuda) (40.6.3)\n",
      "Requirement already satisfied: py>=1.5.0 in /usr/local/lib/python3.6/dist-packages (from pytest>=2->pycuda) (1.7.0)\n",
      "Requirement already satisfied: MarkupSafe>=0.9.2 in /usr/local/lib/python3.6/dist-packages (from mako->pycuda) (1.1.0)\n",
      "Building wheels for collected packages: pycuda, pytools, mako\n",
      "  Running setup.py bdist_wheel for pycuda ... \u001b[?25l-\b \b\\\b \b|\b \b/\b \b-\b \b\\\b \b|\b \b/\b \b-\b \b\\\b \b|\b \b/\b \b-\b \b\\\b \b|\b \b/\b \b-\b \b\\\b \b|\b \b/\b \b-\b \b\\\b \b|\b \b/\b \b-\b \b\\\b \b|\b \b/\b \b-\b \b\\\b \b|\b \b/\b \b-\b \b\\\b \b|\b \b/\b \b-\b \b\\\b \b|\b \b/\b \b-\b \b\\\b \b|\b \b/\b \b-\b \b\\\b \b|\b \b/\b \b-\b \b\\\b \b|\b \b/\b \b-\b \b\\\b \b|\b \b/\b \b-\b \b\\\b \b|\b \b/\b \b-\b \b\\\b \b|\b \b/\b \b-\b \b\\\b \b|\b \b/\b \b-\b \b\\\b \b|\b \b/\b \b-\b \b\\\b \b|\b \b/\b \b-\b \b\\\b \b|\b \b/\b \b-\b \b\\\b \b|\b \b/\b \b-\b \b\\\b \b|\b \b/\b \b-\b \b\\\b \b|\b \b/\b \b-\b \b\\\b \b|\b \b/\b \b-\b \b\\\b \b|\b \b/\b \b-\b \b\\\b \b|\b \b/\b \b-\b \b\\\b \b|\b \b/\b \b-\b \b\\\b \b|\b \b/\b \b-\b \b\\\b \b|\b \b/\b \b-\b \b\\\b \b|\b \b/\b \b-\b \b\\\b \b|\b \b/\b \b-\b \b\\\b \b|\b \b/\b \b-\b \b\\\b \b|\b \b/\b \b-\b \b\\\b \b|\b \b/\b \b-\b \b\\\b \b|\b \b/\b \b-\b \b\\\b \b|\b \b/\b \b-\b \b\\\b \b|\b \b/\b \b-\b \b\\\b \b|\b \b/\b \b-\b \b\\\b \b|\b \b/\b \b-\b \b\\\b \b|\b \b/\b \b-\b \b\\\b \b|\b \b/\b \b-\b \b\\\b \bdone\n",
      "\u001b[?25h  Stored in directory: /root/.cache/pip/wheels/a5/17/ac/99922221c732eeece43529d3e0f9d441f7301c75990b2cdbff\n",
      "  Running setup.py bdist_wheel for pytools ... \u001b[?25l-\b \bdone\n",
      "\u001b[?25h  Stored in directory: /root/.cache/pip/wheels/1b/f4/26/46b6cf949b3cccefcc41e6b526f7c16351a4a5c124fc6f6eaa\n",
      "  Running setup.py bdist_wheel for mako ... \u001b[?25l-\b \b\\\b \bdone\n",
      "\u001b[?25h  Stored in directory: /root/.cache/pip/wheels/15/35/25/dbcb848832ccb1a4b4ad23f529badfd3bce9bf88017f7ca510\n",
      "Successfully built pycuda pytools mako\n",
      "Installing collected packages: appdirs, pytools, mako, pycuda\n",
      "Successfully installed appdirs-1.4.3 mako-1.0.7 pycuda-2018.1.1 pytools-2019.1\n",
      "Ign:1 https://developer.download.nvidia.com/compute/cuda/repos/ubuntu1710/x86_64  InRelease\n",
      "Ign:2 https://developer.download.nvidia.com/compute/machine-learning/repos/ubuntu1604/x86_64  InRelease\n",
      "Hit:3 https://developer.download.nvidia.com/compute/cuda/repos/ubuntu1710/x86_64  Release\n",
      "Hit:4 https://developer.download.nvidia.com/compute/machine-learning/repos/ubuntu1604/x86_64  Release\n",
      "Get:5 http://security.ubuntu.com/ubuntu bionic-security InRelease [88.7 kB]\n",
      "Get:6 http://ppa.launchpad.net/graphics-drivers/ppa/ubuntu bionic InRelease [21.3 kB]\n",
      "Hit:8 http://archive.ubuntu.com/ubuntu bionic InRelease\n",
      "Get:10 http://archive.ubuntu.com/ubuntu bionic-updates InRelease [88.7 kB]\n",
      "Get:11 http://ppa.launchpad.net/graphics-drivers/ppa/ubuntu bionic/main amd64 Packages [27.3 kB]\n",
      "Get:12 http://archive.ubuntu.com/ubuntu bionic-backports InRelease [74.6 kB]\n",
      "Get:13 http://security.ubuntu.com/ubuntu bionic-security/universe amd64 Packages [140 kB]\n",
      "Get:14 http://archive.ubuntu.com/ubuntu bionic-updates/universe amd64 Packages [910 kB]\n",
      "Get:15 http://security.ubuntu.com/ubuntu bionic-security/main amd64 Packages [310 kB]\n",
      "Get:16 http://security.ubuntu.com/ubuntu bionic-security/multiverse amd64 Packages [3,451 B]\n",
      "Get:17 http://archive.ubuntu.com/ubuntu bionic-updates/multiverse amd64 Packages [6,955 B]\n",
      "Get:18 http://archive.ubuntu.com/ubuntu bionic-updates/main amd64 Packages [638 kB]\n",
      "Get:19 http://archive.ubuntu.com/ubuntu bionic-backports/universe amd64 Packages [3,666 B]\n",
      "Fetched 2,312 kB in 2s (1,112 kB/s)\n",
      "Reading package lists... Done\n",
      "Reading package lists...\n",
      "Building dependency tree...\n",
      "Reading state information...\n",
      "Some packages could not be installed. This may mean that you have\n",
      "requested an impossible situation or if you are using the unstable\n",
      "distribution that some required packages have not yet been created\n",
      "or been moved out of Incoming.\n",
      "The following information may help to resolve the situation:\n",
      "\n",
      "The following packages have unmet dependencies:\n",
      " python3-pycuda : Depends: libnvidia-compute-390 but it is not going to be installed\n",
      "                  Depends: nvidia-cuda-toolkit but it is not going to be installed\n",
      "E: Unable to correct problems, you have held broken packages.\n"
     ]
    }
   ],
   "source": [
    "!pip install pycuda\n",
    "!apt-get update\n",
    "!apt install -y --no-install-recommends -q python3-pycuda"
   ]
  },
  {
   "cell_type": "markdown",
   "metadata": {},
   "source": [
    "Pour ce projet, nous avons utilisé Google Colaboratory, nous permettant d'installer pycuda facilement. "
   ]
  },
  {
   "cell_type": "code",
   "execution_count": 0,
   "metadata": {
    "colab": {},
    "colab_type": "code",
    "id": "bSFc0drHA7mR"
   },
   "outputs": [],
   "source": [
    "import numpy as np\n",
    "from pycuda import driver, compiler, gpuarray, tools\n",
    "import pycuda.autoinit\n",
    "import timeit\n",
    "import matplotlib.pyplot as plt\n",
    "%matplotlib inline\n",
    "from timeit import default_timer as timer"
   ]
  },
  {
   "cell_type": "markdown",
   "metadata": {
    "colab_type": "text",
    "id": "MbcB9jiuuBUZ"
   },
   "source": [
    "## **Première version** : Parallélisation sur un seul block\n",
    "\n"
   ]
  },
  {
   "cell_type": "markdown",
   "metadata": {
    "colab_type": "text",
    "id": "gz4zR3BUHXai"
   },
   "source": [
    "Dans un GPU, chaque grid est composé de blocks ayant eux même plusieurs threads, sur lesquels nous pouvons paralléliser des calculs. La première fonction ne parallélise le produit matriciel qu'au sein d'un block. Le nombre de threads par blocks étant de 32 ici, avec cette fonction la dimension des matrices ne peut pas dépasser 32."
   ]
  },
  {
   "cell_type": "code",
   "execution_count": 0,
   "metadata": {
    "colab": {
     "base_uri": "https://localhost:8080/",
     "height": 136
    },
    "colab_type": "code",
    "id": "G6BqQv-wZrjS",
    "outputId": "45eb32c7-2ae8-48fa-9b4c-b866a1370c1a"
   },
   "outputs": [
    {
     "name": "stdout",
     "output_type": "stream",
     "text": [
      "[[0. 0. 0. ... 0. 0. 0.]\n",
      " [0. 0. 0. ... 0. 0. 0.]\n",
      " [0. 0. 0. ... 0. 0. 0.]\n",
      " ...\n",
      " [0. 0. 0. ... 0. 0. 0.]\n",
      " [0. 0. 0. ... 0. 0. 0.]\n",
      " [0. 0. 0. ... 0. 0. 0.]]\n"
     ]
    }
   ],
   "source": [
    "matmul_kernel = \"\"\"\n",
    "__global__ void MatMul(float *a, float *b, float *c)\n",
    "{\n",
    "\n",
    "int tx = threadIdx.x;\n",
    "int ty = threadIdx.y;\n",
    "\n",
    "\n",
    " float value = 0;\n",
    "\n",
    "\n",
    "for (int k = 0; k < %(DIM_MATRIX)s; ++k) {\n",
    "  float Aelement = a[ty * %(DIM_MATRIX)s + k];\n",
    "  float Belement = b[k * %(DIM_MATRIX)s + tx];\n",
    "  value += Aelement * Belement;\n",
    " }\n",
    "\n",
    "c[ty * %(DIM_MATRIX)s + tx] = value;\n",
    " }\n",
    "\"\"\"\n",
    "\n",
    "dim_matrix = 32\n",
    "\n",
    "a_cpu = np.random.randn(dim_matrix, dim_matrix).astype(np.float32)\n",
    "b_cpu = np.random.randn(dim_matrix, dim_matrix).astype(np.float32)\n",
    "\n",
    "c_cpu = np.dot(a_cpu, b_cpu)\n",
    "\n",
    "# Transfert des matrices sur le gpu\n",
    "a_gpu = gpuarray.to_gpu(a_cpu) \n",
    "b_gpu = gpuarray.to_gpu(b_cpu)\n",
    "\n",
    "\n",
    "# Création d'un array vide dans le gpu\n",
    "c_gpu = gpuarray.empty((dim_matrix, dim_matrix), np.float32)\n",
    "\n",
    "matmul_cuda= matmul_kernel % {\n",
    "'DIM_MATRIX': dim_matrix\n",
    "     }\n",
    "\n",
    "mod = compiler.SourceModule(matmul_cuda)\n",
    "matrixmul = mod.get_function(\"MatMul\")\n",
    "matrixmul(a_gpu, b_gpu, c_gpu, block = (dim_matrix, dim_matrix, 1),)\n",
    "\n",
    "print(c_cpu - c_gpu.get())"
   ]
  },
  {
   "cell_type": "markdown",
   "metadata": {
    "colab_type": "text",
    "id": "cvaMwNgo0SOu"
   },
   "source": [
    "## **Deuxième version**: Parallélisation sur plusieurs blocks"
   ]
  },
  {
   "cell_type": "code",
   "execution_count": 0,
   "metadata": {
    "colab": {
     "base_uri": "https://localhost:8080/",
     "height": 69
    },
    "colab_type": "code",
    "id": "AWYBgpX2cv7v",
    "outputId": "c65a6277-9bd9-4435-ca5b-76768bccae31"
   },
   "outputs": [
    {
     "name": "stdout",
     "output_type": "stream",
     "text": [
      "Time for a Matrix multiplication with numpy: 0.00407 seconds\n",
      "Time for a matrix multiplication with pycuda: 0.00031 seconds\n",
      "Time for a matrix multiplication with pycuda and transfer to GPU: 0.34258 seconds\n"
     ]
    }
   ],
   "source": [
    "matmul_kernel_large = \"\"\"\n",
    "__global__ void MatMul(float *a, float *b, float *c) \n",
    "{\n",
    "\n",
    "int TileWidth = blockDim.x;\n",
    "int tx = (TileWidth*blockIdx.x) + threadIdx.x;\n",
    "int ty = (TileWidth*blockIdx.y) + threadIdx.y;\n",
    "\n",
    "float value = 0;\n",
    "\n",
    "for (int k = 0; k < %(DIM_MATRIX)s; ++k) {\n",
    "\n",
    "  float Aelement = a[ty * %(DIM_MATRIX)s + k];\n",
    "  float Belement = b[k * %(DIM_MATRIX)s + tx];\n",
    "  value += Aelement * Belement;\n",
    "  \n",
    " }\n",
    "\n",
    "c[ty * %(DIM_MATRIX)s + tx] = value;\n",
    "}\n",
    "\"\"\"\n",
    "\n",
    "\n",
    "dim_matrix = 500\n",
    "BLOCK_SIZE = 32\n",
    "\n",
    "# Choix du gridsize\n",
    "if dim_matrix%BLOCK_SIZE != 0:\n",
    "    grid=(int(dim_matrix / BLOCK_SIZE + 1), int(dim_matrix / BLOCK_SIZE + 1),1)\n",
    "else:\n",
    "    grid=(1,1,1)\n",
    "    \n",
    "    \n",
    "a_cpu = np.random.randn(dim_matrix, dim_matrix).astype(np.float32)\n",
    "b_cpu = np.random.randn(dim_matrix, dim_matrix).astype(np.float32)\n",
    "\n",
    "# Produit matriciel avec numpy : pour comparer le temps d'exécution\n",
    "start = timer()\n",
    "\n",
    "c_cpu = np.dot(a_cpu, b_cpu)\n",
    "\n",
    "end = timer()\n",
    "\n",
    "print('Time for a Matrix multiplication with numpy: %.5f seconds' %(end - start))\n",
    "\n",
    "start_total = timer()\n",
    "\n",
    "# Transfert des matrices sur le GPU\n",
    "a_gpu = gpuarray.to_gpu(a_cpu) \n",
    "b_gpu = gpuarray.to_gpu(b_cpu)\n",
    "\n",
    "\n",
    "# Création d'un array vide pour stocker le résultat\n",
    "c_gpu = gpuarray.empty((dim_matrix, dim_matrix), np.float32)\n",
    "\n",
    "\n",
    "matmul_cuda = matmul_kernel_large % {\n",
    "'DIM_MATRIX': dim_matrix\n",
    "     }\n",
    "\n",
    "mod = compiler.SourceModule(matmul_cuda)\n",
    "matrixmul = mod.get_function(\"MatMul\")\n",
    "\n",
    "start_calcul = timer()\n",
    " \n",
    "matrixmul(a_gpu, b_gpu,c_gpu, block = (32, 32, 1), grid=grid)\n",
    "\n",
    "end = timer()\n",
    "\n",
    "print('Time for a matrix multiplication with pycuda: %.5f seconds' %(end - start_calcul))\n",
    "print('Time for a matrix multiplication with pycuda and transfer to GPU: %.5f seconds' %(end - start_total))\n",
    "\n"
   ]
  }
 ],
 "metadata": {
  "accelerator": "GPU",
  "colab": {
   "collapsed_sections": [],
   "name": "Matrix multiplication Pycuda.ipynb",
   "provenance": [],
   "version": "0.3.2"
  },
  "kernelspec": {
   "display_name": "Python 3",
   "language": "python",
   "name": "python3"
  },
  "language_info": {
   "codemirror_mode": {
    "name": "ipython",
    "version": 3
   },
   "file_extension": ".py",
   "mimetype": "text/x-python",
   "name": "python",
   "nbconvert_exporter": "python",
   "pygments_lexer": "ipython3",
   "version": "3.6.2"
  }
 },
 "nbformat": 4,
 "nbformat_minor": 1
}
