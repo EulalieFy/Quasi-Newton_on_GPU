{
 "cells": [
  {
   "cell_type": "markdown",
   "metadata": {},
   "source": [
    "# Fast VL-BFGS on GPU"
   ]
  },
  {
   "cell_type": "markdown",
   "metadata": {},
   "source": [
    "## 0. MODULE"
   ]
  },
  {
   "cell_type": "code",
   "execution_count": 1,
   "metadata": {},
   "outputs": [],
   "source": [
    "# Computation\n",
    "import numpy as np\n",
    "import torch\n",
    "\n",
    "from scipy.optimize import fmin_l_bfgs_b\n",
    "\n",
    "# Random\n",
    "from torch.distributions.normal import Normal\n",
    "\n",
    "# Perso\n",
    "from common import *\n",
    "from VL_BFGS import *\n",
    "\n",
    "# Plot\n",
    "import matplotlib.pyplot as plt"
   ]
  },
  {
   "cell_type": "markdown",
   "metadata": {},
   "source": [
    "## 1. DONNÉES SIMULÉES"
   ]
  },
  {
   "cell_type": "markdown",
   "metadata": {},
   "source": [
    "### 1.1 SCIPY VERSION (Avoid for massive datasets)"
   ]
  },
  {
   "cell_type": "code",
   "execution_count": 2,
   "metadata": {},
   "outputs": [],
   "source": [
    "# n_features = 1000\n",
    "# n = Normal(0, 1)\n",
    "# coefs = n.sample(torch.Size([n_features]))\n",
    "\n",
    "# lbda = 0.1\n",
    "\n",
    "# X, y = simulate_data(coefs, n_samples=100000, for_logreg=False)"
   ]
  },
  {
   "cell_type": "code",
   "execution_count": 3,
   "metadata": {},
   "outputs": [],
   "source": [
    "# x_init = np.zeros(n_features)\n",
    "# f = linear_loss_numpy\n",
    "# f_grad = linear_grad_numpy\n",
    "\n",
    "# X_numpy, y_numpy = X.numpy(), y.numpy()"
   ]
  },
  {
   "cell_type": "code",
   "execution_count": 4,
   "metadata": {},
   "outputs": [],
   "source": [
    "# %%time\n",
    "\n",
    "# _, f_min, _ = fmin_l_bfgs_b(f, x_init, f_grad, args=(X_numpy, y_numpy, lbda))"
   ]
  },
  {
   "cell_type": "markdown",
   "metadata": {},
   "source": [
    "### 1.3 Personal implementation"
   ]
  },
  {
   "cell_type": "code",
   "execution_count": 5,
   "metadata": {},
   "outputs": [],
   "source": [
    "n_features = 5000\n",
    "n = Normal(0, 1)\n",
    "coefs = n.sample(torch.Size([n_features]))\n",
    "\n",
    "lbda = 0.1\n",
    "\n",
    "n_samples = 100000"
   ]
  },
  {
   "cell_type": "markdown",
   "metadata": {},
   "source": [
    "#### 1.3.1 Linear regression"
   ]
  },
  {
   "cell_type": "code",
   "execution_count": 6,
   "metadata": {},
   "outputs": [],
   "source": [
    "X, y = simulate_data(coefs, n_samples, for_logreg=False)"
   ]
  },
  {
   "cell_type": "code",
   "execution_count": 7,
   "metadata": {},
   "outputs": [],
   "source": [
    "w0 = torch.zeros(n_features)\n",
    "f = linear_loss\n",
    "f_grad = linear_grad"
   ]
  },
  {
   "cell_type": "code",
   "execution_count": 8,
   "metadata": {
    "scrolled": false
   },
   "outputs": [],
   "source": [
    "# CPU\n",
    "optimizer = lbfgs(f, f_grad, m=10, vector_free=False, device='cpu')\n",
    "_, objectives_cpu, total_time_cpu = optimizer.fit(X, y, w0, lbda)"
   ]
  },
  {
   "cell_type": "code",
   "execution_count": 9,
   "metadata": {},
   "outputs": [],
   "source": [
    "# %%timeit\n",
    "# GPU\n",
    "optimizer = lbfgs(f, f_grad, m=10, vector_free=False, device='cuda:0')\n",
    "_, objectives_gpu, total_time_gpu = optimizer.fit(X, y, w0, lbda)"
   ]
  },
  {
   "cell_type": "code",
   "execution_count": 10,
   "metadata": {},
   "outputs": [],
   "source": [
    "# %%timeit\n",
    "# GPU\n",
    "optimizer = lbfgs(f, f_grad, m=10, vector_free=True, device='cuda:0')\n",
    "_, objectives_gpu_vl, total_time_gpu_vl = optimizer.fit(X, y, w0, lbda)"
   ]
  },
  {
   "cell_type": "code",
   "execution_count": 11,
   "metadata": {},
   "outputs": [
    {
     "name": "stdout",
     "output_type": "stream",
     "text": [
      "CPU iteration number: 21\n",
      "GPU iteration number: 16\n",
      "GPU (vector free) iteration number: 18\n"
     ]
    }
   ],
   "source": [
    "print('CPU iteration number: %2d' % len(objectives_cpu))\n",
    "print('GPU iteration number: %2d' % len(objectives_gpu))\n",
    "print('GPU (vector free) iteration number: %2d' % len(objectives_gpu_vl))"
   ]
  },
  {
   "cell_type": "code",
   "execution_count": 12,
   "metadata": {},
   "outputs": [],
   "source": [
    "f_min = min(objectives_gpu[-1], objectives_cpu[-1], objectives_gpu_vl[-1])"
   ]
  },
  {
   "cell_type": "code",
   "execution_count": 13,
   "metadata": {
    "scrolled": true
   },
   "outputs": [
    {
     "data": {
      "image/png": "[encoded data removed]",
      "text/plain": [
       "<Figure size 1080x360 with 1 Axes>"
      ]
     },
     "metadata": {
      "needs_background": "light"
     },
     "output_type": "display_data"
    }
   ],
   "source": [
    "plt.figure(figsize=(15, 5))\n",
    "plt.semilogy(np.linspace(0, total_time_cpu, len(objectives_cpu)), objectives_cpu - f_min, lw=2, label='CPU')\n",
    "plt.semilogy(np.linspace(0, total_time_gpu, len(objectives_gpu)), objectives_gpu - f_min, lw=2, label='GPU')\n",
    "plt.semilogy(np.linspace(0, total_time_gpu_vl, len(objectives_gpu_vl)), \n",
    "             objectives_gpu_vl - f_min, lw=2, label='GPU (vector-free)')\n",
    "plt.yscale('log')\n",
    "plt.title(\"Linear Regression\", fontsize=16)\n",
    "plt.legend(title='Device', loc='best')\n",
    "plt.xlabel('Time (seconds)')\n",
    "plt.ylabel('Distance to minimum')\n",
    "plt.show()"
   ]
  },
  {
   "cell_type": "code",
   "execution_count": 14,
   "metadata": {},
   "outputs": [],
   "source": [
    "# del X, y\n",
    "# torch.cuda.empty_cache()"
   ]
  },
  {
   "cell_type": "markdown",
   "metadata": {},
   "source": [
    "#### 1.3.2 Logistic regression"
   ]
  },
  {
   "cell_type": "code",
   "execution_count": 15,
   "metadata": {},
   "outputs": [],
   "source": [
    "y = torch.sign(y)"
   ]
  },
  {
   "cell_type": "code",
   "execution_count": 16,
   "metadata": {},
   "outputs": [],
   "source": [
    "w0 = torch.zeros(n_features)\n",
    "f = logistic_loss\n",
    "f_grad = logistic_grad"
   ]
  },
  {
   "cell_type": "code",
   "execution_count": 17,
   "metadata": {},
   "outputs": [],
   "source": [
    "# CPU\n",
    "optimizer = lbfgs(f, f_grad, m=10, vector_free=False, device='cpu')\n",
    "_, objectives_cpu, total_time_cpu = optimizer.fit(X, y, w0, lbda)"
   ]
  },
  {
   "cell_type": "code",
   "execution_count": 18,
   "metadata": {},
   "outputs": [],
   "source": [
    "# GPU\n",
    "optimizer = lbfgs(f, f_grad, m=10, vector_free=False, device='cuda:0')\n",
    "_, objectives_gpu, total_time_gpu = optimizer.fit(X, y, w0, lbda)"
   ]
  },
  {
   "cell_type": "code",
   "execution_count": 19,
   "metadata": {},
   "outputs": [],
   "source": [
    "# GPU\n",
    "optimizer = lbfgs(f, f_grad, m=10, vector_free=True, device='cuda:0')\n",
    "_, objectives_gpu_vl, total_time_gpu_vl = optimizer.fit(X, y, w0, lbda)"
   ]
  },
  {
   "cell_type": "code",
   "execution_count": 20,
   "metadata": {},
   "outputs": [
    {
     "name": "stdout",
     "output_type": "stream",
     "text": [
      "CPU iteration number:  8\n",
      "GPU iteration number:  8\n",
      "GPU (vector free) iteration number:  8\n"
     ]
    }
   ],
   "source": [
    "print('CPU iteration number: %2d' % len(objectives_cpu))\n",
    "print('GPU iteration number: %2d' % len(objectives_gpu))\n",
    "print('GPU (vector free) iteration number: %2d' % len(objectives_gpu_vl))"
   ]
  },
  {
   "cell_type": "code",
   "execution_count": 21,
   "metadata": {},
   "outputs": [],
   "source": [
    "f_min = min(objectives_gpu[-1], objectives_cpu[-1], objectives_gpu_vl[-1])"
   ]
  },
  {
   "cell_type": "code",
   "execution_count": 22,
   "metadata": {},
   "outputs": [
    {
     "data": {
      "image/png": "[encoded data removed]",
      "text/plain": [
       "<Figure size 1080x360 with 1 Axes>"
      ]
     },
     "metadata": {
      "needs_background": "light"
     },
     "output_type": "display_data"
    }
   ],
   "source": [
    "plt.figure(figsize=(15, 5))\n",
    "plt.semilogy(np.linspace(0, total_time_cpu, len(objectives_cpu)), objectives_cpu - f_min, lw=2, label='CPU')\n",
    "plt.semilogy(np.linspace(0, total_time_gpu, len(objectives_gpu)), objectives_gpu - f_min, lw=2, label='GPU')\n",
    "plt.semilogy(np.linspace(0, total_time_gpu_vl, len(objectives_gpu_vl)), \n",
    "             objectives_gpu_vl - f_min, lw=2, label='GPU (vector-free)')\n",
    "plt.yscale('log')\n",
    "plt.title(\"Logistic Regression\", fontsize=16)\n",
    "plt.legend(title='Device', loc='best')\n",
    "plt.xlabel('Time (seconds)')\n",
    "plt.ylabel('Distance to minimum')\n",
    "plt.show()"
   ]
  },
  {
   "cell_type": "markdown",
   "metadata": {},
   "source": [
    "## 2. DONNÉES RÉELLES "
   ]
  },
  {
   "cell_type": "markdown",
   "metadata": {},
   "source": [
    "Pourquoi pas sur les données du challenge solar wind ! \n",
    "    - 500 000 observations\n",
    "    - feature engineering jusqu'à 1500 - 2000 variables"
   ]
  },
  {
   "cell_type": "code",
   "execution_count": null,
   "metadata": {},
   "outputs": [],
   "source": []
  },
  {
   "cell_type": "markdown",
   "metadata": {},
   "source": [
    "## 3. CONCLUSION "
   ]
  },
  {
   "cell_type": "markdown",
   "metadata": {},
   "source": [
    "**GPU implementation is faster than CPU**\n",
    "\n",
    "**Vector-free is slighly slower than regular, even on GPU. But that is valid when using only one GPU. Given the archictecure of both algorithm we can infer that the more GPU we add the more advantage the vector-free approach will have over the regular two-loop version**"
   ]
  },
  {
   "cell_type": "code",
   "execution_count": null,
   "metadata": {},
   "outputs": [],
   "source": []
  }
 ],
 "metadata": {
  "kernelspec": {
   "display_name": "Python 3",
   "language": "python",
   "name": "python3"
  },
  "language_info": {
   "codemirror_mode": {
    "name": "ipython",
    "version": 3
   },
   "file_extension": ".py",
   "mimetype": "text/x-python",
   "name": "python",
   "nbconvert_exporter": "python",
   "pygments_lexer": "ipython3",
   "version": "3.5.6"
  }
 },
 "nbformat": 4,
 "nbformat_minor": 2
}
